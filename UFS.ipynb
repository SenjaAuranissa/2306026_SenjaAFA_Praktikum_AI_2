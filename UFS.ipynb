{
  "nbformat": 4,
  "nbformat_minor": 0,
  "metadata": {
    "colab": {
      "provenance": [],
      "authorship_tag": "ABX9TyMT36cZsmEImoiH5l79QJID",
      "include_colab_link": true
    },
    "kernelspec": {
      "name": "python3",
      "display_name": "Python 3"
    },
    "language_info": {
      "name": "python"
    }
  },
  "cells": [
    {
      "cell_type": "markdown",
      "metadata": {
        "id": "view-in-github",
        "colab_type": "text"
      },
      "source": [
        "<a href=\"https://colab.research.google.com/github/SenjaAuranissa/2306026_SenjaAFA_Praktikum_AI_2/blob/main/UFS.ipynb\" target=\"_parent\"><img src=\"https://colab.research.google.com/assets/colab-badge.svg\" alt=\"Open In Colab\"/></a>"
      ]
    },
    {
      "cell_type": "code",
      "execution_count": 1,
      "metadata": {
        "colab": {
          "base_uri": "https://localhost:8080/"
        },
        "id": "zkViZo0t0OY3",
        "outputId": "8fced5e3-73b4-4863-a284-7cff83f3b60e"
      },
      "outputs": [
        {
          "output_type": "stream",
          "name": "stdout",
          "text": [
            "Minimum cost dari 0 ke 6 adalah: 3\n"
          ]
        }
      ],
      "source": [
        "# Implementasi Uniform Cost Search (UCS) di Python\n",
        "\n",
        "import heapq\n",
        "\n",
        "def uniform_cost_search(goal, start):\n",
        "    # Menyimpan graph dan biaya\n",
        "    global graph, cost\n",
        "\n",
        "    # Inisialisasi jawaban dengan nilai besar\n",
        "    answer = [float('inf')] * len(goal)\n",
        "\n",
        "    # Priority queue (heap)\n",
        "    queue = []\n",
        "\n",
        "    # Memasukkan node awal dengan biaya 0 ke dalam queue\n",
        "    heapq.heappush(queue, (0, start))\n",
        "\n",
        "    # Menyimpan node yang sudah dikunjungi\n",
        "    visited = set()\n",
        "\n",
        "    # Menghitung jumlah goal yang tercapai\n",
        "    count = 0\n",
        "\n",
        "    # Loop sampai queue kosong\n",
        "    while queue:\n",
        "        # Mengambil node dengan biaya terkecil\n",
        "        g_cost, node = heapq.heappop(queue)\n",
        "\n",
        "        # Jika node sudah pernah dikunjungi, lewati\n",
        "        if node in visited:\n",
        "            continue\n",
        "\n",
        "        # Tandai node sebagai dikunjungi\n",
        "        visited.add(node)\n",
        "\n",
        "        # Jika node tujuan ditemukan\n",
        "        if node in goal:\n",
        "            index = goal.index(node)\n",
        "\n",
        "            # Jika ini adalah pertama kali menemukan goal\n",
        "            if answer[index] == float('inf'):\n",
        "                count += 1\n",
        "\n",
        "            # Perbarui jawaban jika biaya lebih kecil\n",
        "            if answer[index] > g_cost:\n",
        "                answer[index] = g_cost\n",
        "\n",
        "            # Jika semua goal tercapai, keluar dari loop\n",
        "            if count == len(goal):\n",
        "                return answer\n",
        "\n",
        "        # Mengeksplorasi tetangga\n",
        "        for neighbor in graph[node]:\n",
        "            if neighbor not in visited:\n",
        "                heapq.heappush(queue, (g_cost + cost[(node, neighbor)], neighbor))\n",
        "\n",
        "    return answer\n",
        "\n",
        "# Main function\n",
        "if __name__ == \"__main__\":\n",
        "    # Membuat graph dan biaya\n",
        "    graph, cost = {}, {}\n",
        "\n",
        "    for i in range(7):\n",
        "        graph[i] = []\n",
        "\n",
        "    # Menambahkan edge dan biaya antar node\n",
        "    graph[0].append(1)\n",
        "    graph[0].append(3)\n",
        "    graph[1].append(6)\n",
        "    graph[3].append(6)\n",
        "    graph[3].append(4)\n",
        "    graph[4].append(5)\n",
        "    graph[2].append(1)\n",
        "    graph[5].append(2)\n",
        "    graph[6].append(4)\n",
        "\n",
        "    cost[(0, 1)] = 2\n",
        "    cost[(0, 3)] = 5\n",
        "    cost[(1, 6)] = 1\n",
        "    cost[(3, 6)] = 6\n",
        "    cost[(3, 4)] = 2\n",
        "    cost[(2, 1)] = 4\n",
        "    cost[(4, 5)] = 3\n",
        "    cost[(5, 2)] = 6\n",
        "    cost[(6, 4)] = 7\n",
        "\n",
        "    # Goal state (tujuan)\n",
        "    goal = [6]\n",
        "\n",
        "    # Menjalankan UCS dari node awal 0\n",
        "    answer = uniform_cost_search(goal, 0)\n",
        "\n",
        "    # Mencetak hasil\n",
        "    print(\"Minimum cost dari 0 ke 6 adalah:\", answer[0])"
      ]
    }
  ]
}